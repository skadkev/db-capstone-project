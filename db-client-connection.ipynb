{
 "cells": [
  {
   "cell_type": "code",
   "execution_count": 24,
   "id": "d2cb5383",
   "metadata": {},
   "outputs": [],
   "source": [
    "import mysql.connector as connector\n",
    "connection = connector.connect(user=\"\", password=\"\", db = \"littlelemondb\")\n",
    "cursor = connection.cursor()"
   ]
  },
  {
   "cell_type": "code",
   "execution_count": 25,
   "id": "53c22c0a",
   "metadata": {},
   "outputs": [
    {
     "name": "stdout",
     "output_type": "stream",
     "text": [
      "[('bookings',), ('customerinfo',), ('employeeinfo',), ('menuitems',), ('menus',), ('orders',), ('orderstatus',), ('ordersview',)]\n"
     ]
    }
   ],
   "source": [
    "show_tables_query = \"\"\"SHOW tables;\"\"\"\n",
    "cursor.execute(show_tables_query)\n",
    "tables_result = cursor.fetchall()\n",
    "print(tables_result)"
   ]
  },
  {
   "cell_type": "code",
   "execution_count": 26,
   "id": "a363e956",
   "metadata": {},
   "outputs": [],
   "source": [
    "join_query = \"\"\"\n",
    "SELECT\n",
    "CONCAT(CI.FirstName, \" \", CI.LastName) AS FullName,\n",
    "CI.CustomerPhone,\n",
    "CI.CustomerEmail,\n",
    "O.BillAmount\n",
    "\n",
    "FROM customerinfo AS CI\n",
    "INNER JOIN bookings AS B ON CI.CustomerID = B.CustomerID\n",
    "INNER JOIN orders AS O ON B.BookingID = O.BookingID\n",
    "\n",
    "WHERE O.BillAmount > 60\n",
    ";\"\"\""
   ]
  },
  {
   "cell_type": "code",
   "execution_count": 27,
   "id": "bb7cbc70",
   "metadata": {},
   "outputs": [],
   "source": [
    "cursor.execute(join_query)"
   ]
  },
  {
   "cell_type": "code",
   "execution_count": 28,
   "id": "5fb40fb2",
   "metadata": {},
   "outputs": [],
   "source": [
    "query_result = cursor.fetchall()"
   ]
  },
  {
   "cell_type": "code",
   "execution_count": 29,
   "id": "fbf88eae",
   "metadata": {},
   "outputs": [
    {
     "name": "stdout",
     "output_type": "stream",
     "text": [
      "('FullName', 'CustomerPhone', 'CustomerEmail', 'BillAmount')\n",
      "('Joseph Contreras', 1508, 'wlong@example.org', Decimal('77.85'))\n",
      "('Betty Miranda', 4738, 'wgarcia@example.org', Decimal('80.80'))\n",
      "('Tracie Wilkerson', 319, 'trevorthompson@example.net', Decimal('125.25'))\n"
     ]
    }
   ],
   "source": [
    "print(cursor.column_names)\n",
    "for item in query_result:\n",
    "    print(item)"
   ]
  },
  {
   "cell_type": "code",
   "execution_count": null,
   "id": "325b747b",
   "metadata": {},
   "outputs": [],
   "source": []
  }
 ],
 "metadata": {
  "kernelspec": {
   "display_name": "Python 3 (ipykernel)",
   "language": "python",
   "name": "python3"
  },
  "language_info": {
   "codemirror_mode": {
    "name": "ipython",
    "version": 3
   },
   "file_extension": ".py",
   "mimetype": "text/x-python",
   "name": "python",
   "nbconvert_exporter": "python",
   "pygments_lexer": "ipython3",
   "version": "3.11.4"
  }
 },
 "nbformat": 4,
 "nbformat_minor": 5
}
